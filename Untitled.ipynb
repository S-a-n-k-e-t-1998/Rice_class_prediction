{
 "cells": [
  {
   "cell_type": "code",
   "execution_count": 1,
   "id": "73d05af5",
   "metadata": {},
   "outputs": [],
   "source": [
    "import numpy as np\n",
    "import pandas as pd\n",
    "import seaborn as sns\n",
    "import matplotlib.pyplot as plt\n",
    "\n",
    "from sklearn.preprocessing import StandardScaler\n",
    "\n",
    "from sklearn.model_selection import train_test_split,GridSearchCV\n",
    "\n",
    "from sklearn.linear_model import LogisticRegression,RidgeClassifier\n",
    "from sklearn.neighbors import KNeighborsClassifier\n",
    "from sklearn.tree import DecisionTreeClassifier,plot_tree\n",
    "\n",
    "from sklearn.metrics import accuracy_score,classification_report,confusion_matrix,roc_curve\n",
    "\n",
    "import warnings\n",
    "warnings.filterwarnings(\"ignore\")"
   ]
  },
  {
   "cell_type": "markdown",
   "id": "ec89b782",
   "metadata": {},
   "source": [
    "# Data Gathering"
   ]
  },
  {
   "cell_type": "code",
   "execution_count": 2,
   "id": "f71986c5",
   "metadata": {},
   "outputs": [],
   "source": [
    "df=pd.read_csv(r\"E:\\10.python\\project\\Rice_prediction\\archive (2)\\riceClassification.csv\")\n",
    "# df"
   ]
  },
  {
   "cell_type": "code",
   "execution_count": null,
   "id": "ba426643",
   "metadata": {},
   "outputs": [],
   "source": [
    "df"
   ]
  },
  {
   "cell_type": "code",
   "execution_count": 3,
   "id": "e7e4bb93",
   "metadata": {},
   "outputs": [],
   "source": [
    "df.drop(\"id\",axis=1,inplace=True)"
   ]
  },
  {
   "cell_type": "code",
   "execution_count": 4,
   "id": "152bdb75",
   "metadata": {},
   "outputs": [
    {
     "data": {
      "text/plain": [
       "Index(['Area', 'MajorAxisLength', 'MinorAxisLength', 'Eccentricity',\n",
       "       'ConvexArea', 'EquivDiameter', 'Extent', 'Perimeter', 'Roundness',\n",
       "       'AspectRation', 'Class'],\n",
       "      dtype='object')"
      ]
     },
     "execution_count": 4,
     "metadata": {},
     "output_type": "execute_result"
    }
   ],
   "source": [
    "df.columns"
   ]
  },
  {
   "cell_type": "code",
   "execution_count": null,
   "id": "00f87cba",
   "metadata": {},
   "outputs": [],
   "source": []
  },
  {
   "cell_type": "code",
   "execution_count": 5,
   "id": "11d947b1",
   "metadata": {},
   "outputs": [],
   "source": [
    "# check stats of columns"
   ]
  },
  {
   "cell_type": "code",
   "execution_count": 6,
   "id": "60347974",
   "metadata": {},
   "outputs": [
    {
     "data": {
      "text/html": [
       "<div>\n",
       "<style scoped>\n",
       "    .dataframe tbody tr th:only-of-type {\n",
       "        vertical-align: middle;\n",
       "    }\n",
       "\n",
       "    .dataframe tbody tr th {\n",
       "        vertical-align: top;\n",
       "    }\n",
       "\n",
       "    .dataframe thead th {\n",
       "        text-align: right;\n",
       "    }\n",
       "</style>\n",
       "<table border=\"1\" class=\"dataframe\">\n",
       "  <thead>\n",
       "    <tr style=\"text-align: right;\">\n",
       "      <th></th>\n",
       "      <th>Area</th>\n",
       "      <th>MajorAxisLength</th>\n",
       "      <th>MinorAxisLength</th>\n",
       "      <th>Eccentricity</th>\n",
       "      <th>ConvexArea</th>\n",
       "      <th>EquivDiameter</th>\n",
       "      <th>Extent</th>\n",
       "      <th>Perimeter</th>\n",
       "      <th>Roundness</th>\n",
       "      <th>AspectRation</th>\n",
       "      <th>Class</th>\n",
       "    </tr>\n",
       "  </thead>\n",
       "  <tbody>\n",
       "    <tr>\n",
       "      <th>count</th>\n",
       "      <td>18185.000000</td>\n",
       "      <td>18185.000000</td>\n",
       "      <td>18185.000000</td>\n",
       "      <td>18185.000000</td>\n",
       "      <td>18185.000000</td>\n",
       "      <td>18185.000000</td>\n",
       "      <td>18185.000000</td>\n",
       "      <td>18185.000000</td>\n",
       "      <td>18185.000000</td>\n",
       "      <td>18185.000000</td>\n",
       "      <td>18185.000000</td>\n",
       "    </tr>\n",
       "    <tr>\n",
       "      <th>mean</th>\n",
       "      <td>7036.492989</td>\n",
       "      <td>151.680754</td>\n",
       "      <td>59.807851</td>\n",
       "      <td>0.915406</td>\n",
       "      <td>7225.817872</td>\n",
       "      <td>94.132952</td>\n",
       "      <td>0.616653</td>\n",
       "      <td>351.606949</td>\n",
       "      <td>0.707998</td>\n",
       "      <td>2.599081</td>\n",
       "      <td>0.549079</td>\n",
       "    </tr>\n",
       "    <tr>\n",
       "      <th>std</th>\n",
       "      <td>1467.197150</td>\n",
       "      <td>12.376402</td>\n",
       "      <td>10.061653</td>\n",
       "      <td>0.030575</td>\n",
       "      <td>1502.006571</td>\n",
       "      <td>9.906250</td>\n",
       "      <td>0.104389</td>\n",
       "      <td>29.500620</td>\n",
       "      <td>0.067310</td>\n",
       "      <td>0.434836</td>\n",
       "      <td>0.497599</td>\n",
       "    </tr>\n",
       "    <tr>\n",
       "      <th>min</th>\n",
       "      <td>2522.000000</td>\n",
       "      <td>74.133114</td>\n",
       "      <td>34.409894</td>\n",
       "      <td>0.676647</td>\n",
       "      <td>2579.000000</td>\n",
       "      <td>56.666658</td>\n",
       "      <td>0.383239</td>\n",
       "      <td>197.015000</td>\n",
       "      <td>0.174590</td>\n",
       "      <td>1.358128</td>\n",
       "      <td>0.000000</td>\n",
       "    </tr>\n",
       "    <tr>\n",
       "      <th>25%</th>\n",
       "      <td>5962.000000</td>\n",
       "      <td>145.675910</td>\n",
       "      <td>51.393151</td>\n",
       "      <td>0.891617</td>\n",
       "      <td>6125.000000</td>\n",
       "      <td>87.126656</td>\n",
       "      <td>0.538530</td>\n",
       "      <td>333.990000</td>\n",
       "      <td>0.650962</td>\n",
       "      <td>2.208527</td>\n",
       "      <td>0.000000</td>\n",
       "    </tr>\n",
       "    <tr>\n",
       "      <th>50%</th>\n",
       "      <td>6660.000000</td>\n",
       "      <td>153.883750</td>\n",
       "      <td>55.724288</td>\n",
       "      <td>0.923259</td>\n",
       "      <td>6843.000000</td>\n",
       "      <td>92.085696</td>\n",
       "      <td>0.601194</td>\n",
       "      <td>353.088000</td>\n",
       "      <td>0.701941</td>\n",
       "      <td>2.602966</td>\n",
       "      <td>1.000000</td>\n",
       "    </tr>\n",
       "    <tr>\n",
       "      <th>75%</th>\n",
       "      <td>8423.000000</td>\n",
       "      <td>160.056214</td>\n",
       "      <td>70.156593</td>\n",
       "      <td>0.941372</td>\n",
       "      <td>8645.000000</td>\n",
       "      <td>103.559146</td>\n",
       "      <td>0.695664</td>\n",
       "      <td>373.003000</td>\n",
       "      <td>0.769280</td>\n",
       "      <td>2.964101</td>\n",
       "      <td>1.000000</td>\n",
       "    </tr>\n",
       "    <tr>\n",
       "      <th>max</th>\n",
       "      <td>10210.000000</td>\n",
       "      <td>183.211434</td>\n",
       "      <td>82.550762</td>\n",
       "      <td>0.966774</td>\n",
       "      <td>11008.000000</td>\n",
       "      <td>114.016559</td>\n",
       "      <td>0.886573</td>\n",
       "      <td>508.511000</td>\n",
       "      <td>0.904748</td>\n",
       "      <td>3.911845</td>\n",
       "      <td>1.000000</td>\n",
       "    </tr>\n",
       "  </tbody>\n",
       "</table>\n",
       "</div>"
      ],
      "text/plain": [
       "               Area  MajorAxisLength  MinorAxisLength  Eccentricity  \\\n",
       "count  18185.000000     18185.000000     18185.000000  18185.000000   \n",
       "mean    7036.492989       151.680754        59.807851      0.915406   \n",
       "std     1467.197150        12.376402        10.061653      0.030575   \n",
       "min     2522.000000        74.133114        34.409894      0.676647   \n",
       "25%     5962.000000       145.675910        51.393151      0.891617   \n",
       "50%     6660.000000       153.883750        55.724288      0.923259   \n",
       "75%     8423.000000       160.056214        70.156593      0.941372   \n",
       "max    10210.000000       183.211434        82.550762      0.966774   \n",
       "\n",
       "         ConvexArea  EquivDiameter        Extent     Perimeter     Roundness  \\\n",
       "count  18185.000000   18185.000000  18185.000000  18185.000000  18185.000000   \n",
       "mean    7225.817872      94.132952      0.616653    351.606949      0.707998   \n",
       "std     1502.006571       9.906250      0.104389     29.500620      0.067310   \n",
       "min     2579.000000      56.666658      0.383239    197.015000      0.174590   \n",
       "25%     6125.000000      87.126656      0.538530    333.990000      0.650962   \n",
       "50%     6843.000000      92.085696      0.601194    353.088000      0.701941   \n",
       "75%     8645.000000     103.559146      0.695664    373.003000      0.769280   \n",
       "max    11008.000000     114.016559      0.886573    508.511000      0.904748   \n",
       "\n",
       "       AspectRation         Class  \n",
       "count  18185.000000  18185.000000  \n",
       "mean       2.599081      0.549079  \n",
       "std        0.434836      0.497599  \n",
       "min        1.358128      0.000000  \n",
       "25%        2.208527      0.000000  \n",
       "50%        2.602966      1.000000  \n",
       "75%        2.964101      1.000000  \n",
       "max        3.911845      1.000000  "
      ]
     },
     "execution_count": 6,
     "metadata": {},
     "output_type": "execute_result"
    }
   ],
   "source": [
    "df.describe()"
   ]
  },
  {
   "cell_type": "code",
   "execution_count": 7,
   "id": "d7e75c71",
   "metadata": {},
   "outputs": [],
   "source": [
    "# check correlation for check multicolinirity"
   ]
  },
  {
   "cell_type": "code",
   "execution_count": 8,
   "id": "bdd4cfd2",
   "metadata": {},
   "outputs": [
    {
     "data": {
      "text/plain": [
       "<AxesSubplot:>"
      ]
     },
     "execution_count": 8,
     "metadata": {},
     "output_type": "execute_result"
    },
    {
     "data": {
      "image/png": "[encoded data removed]",
      "text/plain": [
       "<Figure size 1800x1800 with 2 Axes>"
      ]
     },
     "metadata": {
      "needs_background": "light"
     },
     "output_type": "display_data"
    }
   ],
   "source": [
    "plt.figure(figsize=(25,25))\n",
    "sns.heatmap(df.corr(),annot=True)"
   ]
  },
  {
   "cell_type": "code",
   "execution_count": 9,
   "id": "ab6ff4c2",
   "metadata": {},
   "outputs": [],
   "source": [
    "# check null values in columns"
   ]
  },
  {
   "cell_type": "code",
   "execution_count": 10,
   "id": "3ab35e6f",
   "metadata": {},
   "outputs": [
    {
     "data": {
      "text/plain": [
       "<AxesSubplot:>"
      ]
     },
     "execution_count": 10,
     "metadata": {},
     "output_type": "execute_result"
    },
    {
     "data": {
      "image/png": "[encoded data removed]",
      "text/plain": [
       "<Figure size 432x288 with 2 Axes>"
      ]
     },
     "metadata": {
      "needs_background": "light"
     },
     "output_type": "display_data"
    }
   ],
   "source": [
    "sns.heatmap(df.isnull())"
   ]
  },
  {
   "cell_type": "code",
   "execution_count": 11,
   "id": "26dbbc5f",
   "metadata": {},
   "outputs": [],
   "source": [
    "#  check outlier"
   ]
  },
  {
   "cell_type": "code",
   "execution_count": 12,
   "id": "05b764ab",
   "metadata": {},
   "outputs": [
    {
     "data": {
      "text/plain": [
       "Index(['Area', 'MajorAxisLength', 'MinorAxisLength', 'Eccentricity',\n",
       "       'ConvexArea', 'EquivDiameter', 'Extent', 'Perimeter', 'Roundness',\n",
       "       'AspectRation', 'Class'],\n",
       "      dtype='object')"
      ]
     },
     "execution_count": 12,
     "metadata": {},
     "output_type": "execute_result"
    }
   ],
   "source": [
    "df.columns"
   ]
  },
  {
   "cell_type": "code",
   "execution_count": 13,
   "id": "42442a75",
   "metadata": {},
   "outputs": [],
   "source": [
    "#Area"
   ]
  },
  {
   "cell_type": "code",
   "execution_count": 14,
   "id": "1af7a9ba",
   "metadata": {},
   "outputs": [
    {
     "data": {
      "image/png": "[encoded data removed]",
      "text/plain": [
       "<Figure size 432x288 with 1 Axes>"
      ]
     },
     "metadata": {
      "needs_background": "light"
     },
     "output_type": "display_data"
    },
    {
     "data": {
      "image/png": "[encoded data removed]",
      "text/plain": [
       "<Figure size 432x288 with 1 Axes>"
      ]
     },
     "metadata": {
      "needs_background": "light"
     },
     "output_type": "display_data"
    },
    {
     "data": {
      "image/png": "[encoded data removed]",
      "text/plain": [
       "<Figure size 432x288 with 1 Axes>"
      ]
     },
     "metadata": {
      "needs_background": "light"
     },
     "output_type": "display_data"
    },
    {
     "data": {
      "image/png": "[encoded data removed]",
      "text/plain": [
       "<Figure size 432x288 with 1 Axes>"
      ]
     },
     "metadata": {
      "needs_background": "light"
     },
     "output_type": "display_data"
    },
    {
     "data": {
      "image/png": "[encoded data removed]",
      "text/plain": [
       "<Figure size 432x288 with 1 Axes>"
      ]
     },
     "metadata": {
      "needs_background": "light"
     },
     "output_type": "display_data"
    },
    {
     "data": {
      "image/png": "[encoded data removed]",
      "text/plain": [
       "<Figure size 432x288 with 1 Axes>"
      ]
     },
     "metadata": {
      "needs_background": "light"
     },
     "output_type": "display_data"
    },
    {
     "data": {
      "image/png": "[encoded data removed]",
      "text/plain": [
       "<Figure size 432x288 with 1 Axes>"
      ]
     },
     "metadata": {
      "needs_background": "light"
     },
     "output_type": "display_data"
    },
    {
     "data": {
      "image/png": "[encoded data removed]",
      "text/plain": [
       "<Figure size 432x288 with 1 Axes>"
      ]
     },
     "metadata": {
      "needs_background": "light"
     },
     "output_type": "display_data"
    },
    {
     "data": {
      "image/png": "[encoded data removed]",
      "text/plain": [
       "<Figure size 432x288 with 1 Axes>"
      ]
     },
     "metadata": {
      "needs_background": "light"
     },
     "output_type": "display_data"
    },
    {
     "data": {
      "image/png": "[encoded data removed]",
      "text/plain": [
       "<Figure size 432x288 with 1 Axes>"
      ]
     },
     "metadata": {
      "needs_background": "light"
     },
     "output_type": "display_data"
    },
    {
     "data": {
      "image/png": "[encoded data removed]",
      "text/plain": [
       "<Figure size 432x288 with 1 Axes>"
      ]
     },
     "metadata": {
      "needs_background": "light"
     },
     "output_type": "display_data"
    }
   ],
   "source": [
    "for col in df.columns:\n",
    "    sns.boxplot(df[col])\n",
    "    plt.show()"
   ]
  },
  {
   "cell_type": "code",
   "execution_count": 15,
   "id": "f8301273",
   "metadata": {},
   "outputs": [],
   "source": [
    "# lot of outlier in some columns"
   ]
  },
  {
   "cell_type": "code",
   "execution_count": 16,
   "id": "95f785cb",
   "metadata": {},
   "outputs": [],
   "source": [
    "# MajorAxisLength"
   ]
  },
  {
   "cell_type": "code",
   "execution_count": 17,
   "id": "2b255741",
   "metadata": {},
   "outputs": [
    {
     "data": {
      "text/plain": [
       "0         92.229316\n",
       "1         74.691881\n",
       "2         76.293164\n",
       "3         77.033628\n",
       "4         85.124785\n",
       "            ...    \n",
       "18180    148.624571\n",
       "18181    169.593996\n",
       "18182    154.777085\n",
       "18183    151.397924\n",
       "18184    153.081981\n",
       "Name: MajorAxisLength, Length: 18185, dtype: float64"
      ]
     },
     "execution_count": 17,
     "metadata": {},
     "output_type": "execute_result"
    }
   ],
   "source": [
    "df[\"MajorAxisLength\"]"
   ]
  },
  {
   "cell_type": "code",
   "execution_count": 18,
   "id": "0f4d16d0",
   "metadata": {},
   "outputs": [
    {
     "name": "stdout",
     "output_type": "stream",
     "text": [
      "Area\n",
      "MajorAxisLength\n",
      "MinorAxisLength\n",
      "Eccentricity\n",
      "ConvexArea\n",
      "EquivDiameter\n",
      "Extent\n",
      "Perimeter\n",
      "Roundness\n",
      "AspectRation\n"
     ]
    }
   ],
   "source": [
    "def Outlier_check(col):\n",
    "#     sns.boxplot(df[col])\n",
    "#     plt.show()\n",
    "    print(col)\n",
    "    q3=df[col].quantile(0.75)\n",
    "    q1=df[col].quantile(0.25)\n",
    "    iqr=q3-q1\n",
    "    upper_tail=q3+3*iqr\n",
    "    lower_tail=q1-3*iqr\n",
    "#     print(upper_tail,lower_tail)\n",
    "    try:\n",
    "        df.loc[(df[col]<lower_tail),col]=lower_tail\n",
    "        print(a)\n",
    "        df.loc[(df[col]>upper_tail),col]=upper_tail\n",
    "        print(b)\n",
    "    except:\n",
    "        pass\n",
    "#     sns.boxplot(df[col])\n",
    "#     plt.show()\n",
    "for col in df.columns[:-1]:\n",
    "    Outlier_check(col)"
   ]
  },
  {
   "cell_type": "code",
   "execution_count": 19,
   "id": "b2177874",
   "metadata": {},
   "outputs": [],
   "source": [
    "# sns.boxplot(df[\"MajorAxisLength\"])"
   ]
  },
  {
   "cell_type": "code",
   "execution_count": 20,
   "id": "7ebaf5fb",
   "metadata": {},
   "outputs": [],
   "source": [
    "# df.info()"
   ]
  },
  {
   "cell_type": "code",
   "execution_count": 21,
   "id": "8e205aaa",
   "metadata": {},
   "outputs": [
    {
     "data": {
      "text/html": [
       "<div>\n",
       "<style scoped>\n",
       "    .dataframe tbody tr th:only-of-type {\n",
       "        vertical-align: middle;\n",
       "    }\n",
       "\n",
       "    .dataframe tbody tr th {\n",
       "        vertical-align: top;\n",
       "    }\n",
       "\n",
       "    .dataframe thead th {\n",
       "        text-align: right;\n",
       "    }\n",
       "</style>\n",
       "<table border=\"1\" class=\"dataframe\">\n",
       "  <thead>\n",
       "    <tr style=\"text-align: right;\">\n",
       "      <th></th>\n",
       "      <th>Area</th>\n",
       "      <th>MajorAxisLength</th>\n",
       "      <th>MinorAxisLength</th>\n",
       "      <th>Eccentricity</th>\n",
       "      <th>ConvexArea</th>\n",
       "      <th>EquivDiameter</th>\n",
       "      <th>Extent</th>\n",
       "      <th>Perimeter</th>\n",
       "      <th>Roundness</th>\n",
       "      <th>AspectRation</th>\n",
       "      <th>Class</th>\n",
       "    </tr>\n",
       "  </thead>\n",
       "  <tbody>\n",
       "    <tr>\n",
       "      <th>count</th>\n",
       "      <td>18185.000000</td>\n",
       "      <td>18185.000000</td>\n",
       "      <td>18185.000000</td>\n",
       "      <td>18185.000000</td>\n",
       "      <td>18185.000000</td>\n",
       "      <td>18185.000000</td>\n",
       "      <td>18185.000000</td>\n",
       "      <td>18185.000000</td>\n",
       "      <td>18185.000000</td>\n",
       "      <td>18185.000000</td>\n",
       "      <td>18185.000000</td>\n",
       "    </tr>\n",
       "    <tr>\n",
       "      <th>mean</th>\n",
       "      <td>7036.492989</td>\n",
       "      <td>151.741929</td>\n",
       "      <td>59.807851</td>\n",
       "      <td>0.915453</td>\n",
       "      <td>7225.817872</td>\n",
       "      <td>94.132952</td>\n",
       "      <td>0.616653</td>\n",
       "      <td>351.612949</td>\n",
       "      <td>0.708009</td>\n",
       "      <td>2.599081</td>\n",
       "      <td>0.549079</td>\n",
       "    </tr>\n",
       "    <tr>\n",
       "      <th>std</th>\n",
       "      <td>1467.197150</td>\n",
       "      <td>12.093002</td>\n",
       "      <td>10.061653</td>\n",
       "      <td>0.030278</td>\n",
       "      <td>1502.006571</td>\n",
       "      <td>9.906250</td>\n",
       "      <td>0.104389</td>\n",
       "      <td>29.472001</td>\n",
       "      <td>0.067241</td>\n",
       "      <td>0.434836</td>\n",
       "      <td>0.497599</td>\n",
       "    </tr>\n",
       "    <tr>\n",
       "      <th>min</th>\n",
       "      <td>2522.000000</td>\n",
       "      <td>102.534997</td>\n",
       "      <td>34.409894</td>\n",
       "      <td>0.742352</td>\n",
       "      <td>2579.000000</td>\n",
       "      <td>56.666658</td>\n",
       "      <td>0.383239</td>\n",
       "      <td>216.951000</td>\n",
       "      <td>0.296009</td>\n",
       "      <td>1.358128</td>\n",
       "      <td>0.000000</td>\n",
       "    </tr>\n",
       "    <tr>\n",
       "      <th>25%</th>\n",
       "      <td>5962.000000</td>\n",
       "      <td>145.675910</td>\n",
       "      <td>51.393151</td>\n",
       "      <td>0.891617</td>\n",
       "      <td>6125.000000</td>\n",
       "      <td>87.126656</td>\n",
       "      <td>0.538530</td>\n",
       "      <td>333.990000</td>\n",
       "      <td>0.650962</td>\n",
       "      <td>2.208527</td>\n",
       "      <td>0.000000</td>\n",
       "    </tr>\n",
       "    <tr>\n",
       "      <th>50%</th>\n",
       "      <td>6660.000000</td>\n",
       "      <td>153.883750</td>\n",
       "      <td>55.724288</td>\n",
       "      <td>0.923259</td>\n",
       "      <td>6843.000000</td>\n",
       "      <td>92.085696</td>\n",
       "      <td>0.601194</td>\n",
       "      <td>353.088000</td>\n",
       "      <td>0.701941</td>\n",
       "      <td>2.602966</td>\n",
       "      <td>1.000000</td>\n",
       "    </tr>\n",
       "    <tr>\n",
       "      <th>75%</th>\n",
       "      <td>8423.000000</td>\n",
       "      <td>160.056214</td>\n",
       "      <td>70.156593</td>\n",
       "      <td>0.941372</td>\n",
       "      <td>8645.000000</td>\n",
       "      <td>103.559146</td>\n",
       "      <td>0.695664</td>\n",
       "      <td>373.003000</td>\n",
       "      <td>0.769280</td>\n",
       "      <td>2.964101</td>\n",
       "      <td>1.000000</td>\n",
       "    </tr>\n",
       "    <tr>\n",
       "      <th>max</th>\n",
       "      <td>10210.000000</td>\n",
       "      <td>183.211434</td>\n",
       "      <td>82.550762</td>\n",
       "      <td>0.966774</td>\n",
       "      <td>11008.000000</td>\n",
       "      <td>114.016559</td>\n",
       "      <td>0.886573</td>\n",
       "      <td>508.511000</td>\n",
       "      <td>0.904748</td>\n",
       "      <td>3.911845</td>\n",
       "      <td>1.000000</td>\n",
       "    </tr>\n",
       "  </tbody>\n",
       "</table>\n",
       "</div>"
      ],
      "text/plain": [
       "               Area  MajorAxisLength  MinorAxisLength  Eccentricity  \\\n",
       "count  18185.000000     18185.000000     18185.000000  18185.000000   \n",
       "mean    7036.492989       151.741929        59.807851      0.915453   \n",
       "std     1467.197150        12.093002        10.061653      0.030278   \n",
       "min     2522.000000       102.534997        34.409894      0.742352   \n",
       "25%     5962.000000       145.675910        51.393151      0.891617   \n",
       "50%     6660.000000       153.883750        55.724288      0.923259   \n",
       "75%     8423.000000       160.056214        70.156593      0.941372   \n",
       "max    10210.000000       183.211434        82.550762      0.966774   \n",
       "\n",
       "         ConvexArea  EquivDiameter        Extent     Perimeter     Roundness  \\\n",
       "count  18185.000000   18185.000000  18185.000000  18185.000000  18185.000000   \n",
       "mean    7225.817872      94.132952      0.616653    351.612949      0.708009   \n",
       "std     1502.006571       9.906250      0.104389     29.472001      0.067241   \n",
       "min     2579.000000      56.666658      0.383239    216.951000      0.296009   \n",
       "25%     6125.000000      87.126656      0.538530    333.990000      0.650962   \n",
       "50%     6843.000000      92.085696      0.601194    353.088000      0.701941   \n",
       "75%     8645.000000     103.559146      0.695664    373.003000      0.769280   \n",
       "max    11008.000000     114.016559      0.886573    508.511000      0.904748   \n",
       "\n",
       "       AspectRation         Class  \n",
       "count  18185.000000  18185.000000  \n",
       "mean       2.599081      0.549079  \n",
       "std        0.434836      0.497599  \n",
       "min        1.358128      0.000000  \n",
       "25%        2.208527      0.000000  \n",
       "50%        2.602966      1.000000  \n",
       "75%        2.964101      1.000000  \n",
       "max        3.911845      1.000000  "
      ]
     },
     "execution_count": 21,
     "metadata": {},
     "output_type": "execute_result"
    }
   ],
   "source": [
    "df.describe()"
   ]
  },
  {
   "cell_type": "code",
   "execution_count": 22,
   "id": "f417e4a9",
   "metadata": {},
   "outputs": [],
   "source": [
    "# sns.boxplot(df.loc[df[\"Class\"]==0][\"MajorAxisLength\"])"
   ]
  },
  {
   "cell_type": "code",
   "execution_count": 23,
   "id": "a73dd61a",
   "metadata": {},
   "outputs": [],
   "source": [
    "# train test split"
   ]
  },
  {
   "cell_type": "code",
   "execution_count": 24,
   "id": "e61827b7",
   "metadata": {},
   "outputs": [],
   "source": [
    "x=df.drop([\"Class\"],axis=1)\n",
    "y=df[\"Class\"]"
   ]
  },
  {
   "cell_type": "code",
   "execution_count": 25,
   "id": "561424eb",
   "metadata": {},
   "outputs": [],
   "source": [
    "x_train,x_test,y_train,y_test=train_test_split(x,y,test_size=0.2,random_state=10,stratify=y)"
   ]
  },
  {
   "cell_type": "code",
   "execution_count": 26,
   "id": "9d997c4d",
   "metadata": {},
   "outputs": [],
   "source": [
    "# Logistic model"
   ]
  },
  {
   "cell_type": "code",
   "execution_count": 27,
   "id": "ccae015a",
   "metadata": {},
   "outputs": [
    {
     "data": {
      "text/plain": [
       "LogisticRegression()"
      ]
     },
     "execution_count": 27,
     "metadata": {},
     "output_type": "execute_result"
    }
   ],
   "source": [
    "log_model=LogisticRegression()\n",
    "log_model.fit(x_train,y_train)"
   ]
  },
  {
   "cell_type": "code",
   "execution_count": 28,
   "id": "ef78f13f",
   "metadata": {},
   "outputs": [
    {
     "name": "stdout",
     "output_type": "stream",
     "text": [
      "Accuracy :: 0.9898267803134452\n",
      "confusion_matrix >>\n",
      " [[1613   27]\n",
      " [  10 1987]]\n",
      "classification_report >>\n",
      "               precision    recall  f1-score   support\n",
      "\n",
      "           0       0.99      0.98      0.99      1640\n",
      "           1       0.99      0.99      0.99      1997\n",
      "\n",
      "    accuracy                           0.99      3637\n",
      "   macro avg       0.99      0.99      0.99      3637\n",
      "weighted avg       0.99      0.99      0.99      3637\n",
      "\n"
     ]
    }
   ],
   "source": [
    "#Testing evalution\n",
    "y_pred=log_model.predict(x_test)\n",
    "accu_score=accuracy_score(y_test,y_pred)\n",
    "print(\"Accuracy ::\",accu_score)\n",
    "conf_matrix=confusion_matrix(y_test,y_pred)\n",
    "print(\"confusion_matrix >>\\n\",conf_matrix)\n",
    "class_report=classification_report(y_test,y_pred)\n",
    "print(\"classification_report >>\\n\",class_report)"
   ]
  },
  {
   "cell_type": "code",
   "execution_count": 29,
   "id": "b6bc3b8f",
   "metadata": {},
   "outputs": [
    {
     "name": "stdout",
     "output_type": "stream",
     "text": [
      "Accuracy :: 0.9892081385757493\n",
      "confusion_matrix >>\n",
      " [[6457  103]\n",
      " [  54 7934]]\n",
      "classification_report >>\n",
      "               precision    recall  f1-score   support\n",
      "\n",
      "           0       0.99      0.98      0.99      6560\n",
      "           1       0.99      0.99      0.99      7988\n",
      "\n",
      "    accuracy                           0.99     14548\n",
      "   macro avg       0.99      0.99      0.99     14548\n",
      "weighted avg       0.99      0.99      0.99     14548\n",
      "\n"
     ]
    }
   ],
   "source": [
    "#traiiing evalution\n",
    "y_pred_train=log_model.predict(x_train)\n",
    "accu_score=accuracy_score(y_train,y_pred_train)\n",
    "print(\"Accuracy ::\",accu_score)\n",
    "conf_matrix=confusion_matrix(y_train,y_pred_train)\n",
    "print(\"confusion_matrix >>\\n\",conf_matrix)\n",
    "class_report=classification_report(y_train,y_pred_train)\n",
    "print(\"classification_report >>\\n\",class_report)"
   ]
  },
  {
   "cell_type": "markdown",
   "id": "de471af7",
   "metadata": {},
   "source": [
    "# scaling"
   ]
  },
  {
   "cell_type": "code",
   "execution_count": 30,
   "id": "3f24fc20",
   "metadata": {},
   "outputs": [
    {
     "data": {
      "text/plain": [
       "StandardScaler()"
      ]
     },
     "execution_count": 30,
     "metadata": {},
     "output_type": "execute_result"
    }
   ],
   "source": [
    "std_scalar=StandardScaler()\n",
    "std_scalar.fit(x_train)"
   ]
  },
  {
   "cell_type": "code",
   "execution_count": 31,
   "id": "7bd024d1",
   "metadata": {},
   "outputs": [],
   "source": [
    "x_train[x_train.columns]=std_scalar.transform(x_train)\n",
    "x_test[x_test.columns]=std_scalar.transform(x_test)"
   ]
  },
  {
   "cell_type": "code",
   "execution_count": 32,
   "id": "2b183251",
   "metadata": {},
   "outputs": [],
   "source": [
    "# x_train"
   ]
  },
  {
   "cell_type": "code",
   "execution_count": 33,
   "id": "8fb271fd",
   "metadata": {},
   "outputs": [
    {
     "data": {
      "text/plain": [
       "LogisticRegression()"
      ]
     },
     "execution_count": 33,
     "metadata": {},
     "output_type": "execute_result"
    }
   ],
   "source": [
    "log_model_scale=LogisticRegression()\n",
    "log_model_scale.fit(x_train,y_train)"
   ]
  },
  {
   "cell_type": "code",
   "execution_count": 34,
   "id": "7163dae9",
   "metadata": {},
   "outputs": [
    {
     "name": "stdout",
     "output_type": "stream",
     "text": [
      "Accuracy :: 0.9892768765466043\n",
      "confusion_matrix >>\n",
      " [[1613   27]\n",
      " [  12 1985]]\n",
      "classification_report >>\n",
      "               precision    recall  f1-score   support\n",
      "\n",
      "           0       0.99      0.98      0.99      1640\n",
      "           1       0.99      0.99      0.99      1997\n",
      "\n",
      "    accuracy                           0.99      3637\n",
      "   macro avg       0.99      0.99      0.99      3637\n",
      "weighted avg       0.99      0.99      0.99      3637\n",
      "\n"
     ]
    }
   ],
   "source": [
    "#Testing evalution\n",
    "y_pred=log_model_scale.predict(x_test)\n",
    "accu_score=accuracy_score(y_test,y_pred)\n",
    "print(\"Accuracy ::\",accu_score)\n",
    "conf_matrix=confusion_matrix(y_test,y_pred)\n",
    "print(\"confusion_matrix >>\\n\",conf_matrix)\n",
    "class_report=classification_report(y_test,y_pred)\n",
    "print(\"classification_report >>\\n\",class_report)"
   ]
  },
  {
   "cell_type": "code",
   "execution_count": 35,
   "id": "09898acf",
   "metadata": {},
   "outputs": [
    {
     "name": "stdout",
     "output_type": "stream",
     "text": [
      "Accuracy :: 0.9891394006048941\n",
      "confusion_matrix >>\n",
      " [[6465   95]\n",
      " [  63 7925]]\n",
      "classification_report >>\n",
      "               precision    recall  f1-score   support\n",
      "\n",
      "           0       0.99      0.99      0.99      6560\n",
      "           1       0.99      0.99      0.99      7988\n",
      "\n",
      "    accuracy                           0.99     14548\n",
      "   macro avg       0.99      0.99      0.99     14548\n",
      "weighted avg       0.99      0.99      0.99     14548\n",
      "\n"
     ]
    }
   ],
   "source": [
    "#traiiing evalution\n",
    "y_pred_train=log_model_scale.predict(x_train)\n",
    "accu_score=accuracy_score(y_train,y_pred_train)\n",
    "print(\"Accuracy ::\",accu_score)\n",
    "conf_matrix=confusion_matrix(y_train,y_pred_train)\n",
    "print(\"confusion_matrix >>\\n\",conf_matrix)\n",
    "class_report=classification_report(y_train,y_pred_train)\n",
    "print(\"classification_report >>\\n\",class_report)"
   ]
  },
  {
   "cell_type": "code",
   "execution_count": 36,
   "id": "0a6667ae",
   "metadata": {},
   "outputs": [],
   "source": [
    "# KNN algorithm"
   ]
  },
  {
   "cell_type": "code",
   "execution_count": 37,
   "id": "7d1fd0f1",
   "metadata": {},
   "outputs": [
    {
     "data": {
      "text/plain": [
       "KNeighborsClassifier()"
      ]
     },
     "execution_count": 37,
     "metadata": {},
     "output_type": "execute_result"
    }
   ],
   "source": [
    "knn_model=KNeighborsClassifier()\n",
    "knn_model.fit(x_train,y_train)"
   ]
  },
  {
   "cell_type": "code",
   "execution_count": 38,
   "id": "d414ac05",
   "metadata": {},
   "outputs": [
    {
     "name": "stdout",
     "output_type": "stream",
     "text": [
      "Accuracy :: 0.9884520208963431\n",
      "confusion_matrix >>\n",
      " [[1617   23]\n",
      " [  19 1978]]\n",
      "classification_report >>\n",
      "               precision    recall  f1-score   support\n",
      "\n",
      "           0       0.99      0.99      0.99      1640\n",
      "           1       0.99      0.99      0.99      1997\n",
      "\n",
      "    accuracy                           0.99      3637\n",
      "   macro avg       0.99      0.99      0.99      3637\n",
      "weighted avg       0.99      0.99      0.99      3637\n",
      "\n"
     ]
    }
   ],
   "source": [
    "#Testing evalution\n",
    "y_pred_knn=knn_model.predict(x_test)\n",
    "accu_score=accuracy_score(y_test,y_pred_knn)\n",
    "print(\"Accuracy ::\",accu_score)\n",
    "conf_matrix=confusion_matrix(y_test,y_pred_knn)\n",
    "print(\"confusion_matrix >>\\n\",conf_matrix)\n",
    "class_report=classification_report(y_test,y_pred_knn)\n",
    "print(\"classification_report >>\\n\",class_report)"
   ]
  },
  {
   "cell_type": "code",
   "execution_count": 39,
   "id": "5507d35c",
   "metadata": {},
   "outputs": [
    {
     "name": "stdout",
     "output_type": "stream",
     "text": [
      "Accuracy :: 0.9903079461094308\n",
      "confusion_matrix >>\n",
      " [[6474   86]\n",
      " [  55 7933]]\n",
      "classification_report >>\n",
      "               precision    recall  f1-score   support\n",
      "\n",
      "           0       0.99      0.99      0.99      6560\n",
      "           1       0.99      0.99      0.99      7988\n",
      "\n",
      "    accuracy                           0.99     14548\n",
      "   macro avg       0.99      0.99      0.99     14548\n",
      "weighted avg       0.99      0.99      0.99     14548\n",
      "\n"
     ]
    }
   ],
   "source": [
    "#traiiing evalution\n",
    "y_pred_train=knn_model.predict(x_train)\n",
    "accu_score=accuracy_score(y_train,y_pred_train)\n",
    "print(\"Accuracy ::\",accu_score)\n",
    "conf_matrix=confusion_matrix(y_train,y_pred_train)\n",
    "print(\"confusion_matrix >>\\n\",conf_matrix)\n",
    "class_report=classification_report(y_train,y_pred_train)\n",
    "print(\"classification_report >>\\n\",class_report)"
   ]
  },
  {
   "cell_type": "code",
   "execution_count": 40,
   "id": "23f2afe9",
   "metadata": {},
   "outputs": [],
   "source": [
    "# Decision tree"
   ]
  },
  {
   "cell_type": "code",
   "execution_count": 41,
   "id": "81e2d332",
   "metadata": {},
   "outputs": [],
   "source": [
    "x=df.drop([\"Class\"],axis=1)\n",
    "y=df[\"Class\"]"
   ]
  },
  {
   "cell_type": "code",
   "execution_count": 42,
   "id": "6a5cd18f",
   "metadata": {},
   "outputs": [],
   "source": [
    "x_train,x_test,y_train,y_test=train_test_split(x,y,test_size=0.2,random_state=10,stratify=y)"
   ]
  },
  {
   "cell_type": "code",
   "execution_count": 43,
   "id": "f467139a",
   "metadata": {},
   "outputs": [
    {
     "data": {
      "text/plain": [
       "DecisionTreeClassifier()"
      ]
     },
     "execution_count": 43,
     "metadata": {},
     "output_type": "execute_result"
    }
   ],
   "source": [
    "dt_model=DecisionTreeClassifier()\n",
    "dt_model.fit(x_train,y_train)"
   ]
  },
  {
   "cell_type": "code",
   "execution_count": 44,
   "id": "fb944b3b",
   "metadata": {},
   "outputs": [
    {
     "name": "stdout",
     "output_type": "stream",
     "text": [
      "Accuracy :: 0.9862524058289799\n",
      "confusion_matrix >>\n",
      " [[1613   27]\n",
      " [  23 1974]]\n",
      "classification_report >>\n",
      "               precision    recall  f1-score   support\n",
      "\n",
      "           0       0.99      0.98      0.98      1640\n",
      "           1       0.99      0.99      0.99      1997\n",
      "\n",
      "    accuracy                           0.99      3637\n",
      "   macro avg       0.99      0.99      0.99      3637\n",
      "weighted avg       0.99      0.99      0.99      3637\n",
      "\n"
     ]
    }
   ],
   "source": [
    "#Testing evalution\n",
    "y_pred_dt=dt_model.predict(x_test)\n",
    "accu_score=accuracy_score(y_test,y_pred_dt)\n",
    "print(\"Accuracy ::\",accu_score)\n",
    "conf_matrix=confusion_matrix(y_test,y_pred_dt)\n",
    "print(\"confusion_matrix >>\\n\",conf_matrix)\n",
    "class_report=classification_report(y_test,y_pred_dt)\n",
    "print(\"classification_report >>\\n\",class_report)"
   ]
  },
  {
   "cell_type": "code",
   "execution_count": 45,
   "id": "c29efa49",
   "metadata": {},
   "outputs": [
    {
     "name": "stdout",
     "output_type": "stream",
     "text": [
      "Accuracy :: 1.0\n",
      "confusion_matrix >>\n",
      " [[6560    0]\n",
      " [   0 7988]]\n",
      "classification_report >>\n",
      "               precision    recall  f1-score   support\n",
      "\n",
      "           0       1.00      1.00      1.00      6560\n",
      "           1       1.00      1.00      1.00      7988\n",
      "\n",
      "    accuracy                           1.00     14548\n",
      "   macro avg       1.00      1.00      1.00     14548\n",
      "weighted avg       1.00      1.00      1.00     14548\n",
      "\n"
     ]
    }
   ],
   "source": [
    "#traiiing evalution\n",
    "y_pred_train=dt_model.predict(x_train)\n",
    "accu_score=accuracy_score(y_train,y_pred_train)\n",
    "print(\"Accuracy ::\",accu_score)\n",
    "conf_matrix=confusion_matrix(y_train,y_pred_train)\n",
    "print(\"confusion_matrix >>\\n\",conf_matrix)\n",
    "class_report=classification_report(y_train,y_pred_train)\n",
    "print(\"classification_report >>\\n\",class_report)"
   ]
  },
  {
   "cell_type": "code",
   "execution_count": 46,
   "id": "c58774dc",
   "metadata": {},
   "outputs": [],
   "source": [
    "# hyper parameter tuning"
   ]
  },
  {
   "cell_type": "code",
   "execution_count": 47,
   "id": "df902c51",
   "metadata": {},
   "outputs": [
    {
     "data": {
      "text/plain": [
       "DecisionTreeClassifier(max_depth=4, min_samples_leaf=9, min_samples_split=7)"
      ]
     },
     "execution_count": 47,
     "metadata": {},
     "output_type": "execute_result"
    }
   ],
   "source": [
    "dt_model1=DecisionTreeClassifier()\n",
    "hyp={\"criterion\":['gini',\"entropy\"],\n",
    "    \"max_depth\":np.arange(3,10),\n",
    "    \"min_samples_split\":np.arange(5,20),\n",
    "    \"min_samples_leaf\":np.arange(5,15)}\n",
    "gscv_model=GridSearchCV(dt_model1,hyp,cv=5)\n",
    "gscv_model.fit(x_train,y_train)\n",
    "gscv_model.best_estimator_"
   ]
  },
  {
   "cell_type": "code",
   "execution_count": 48,
   "id": "be84e467",
   "metadata": {},
   "outputs": [
    {
     "data": {
      "text/plain": [
       "DecisionTreeClassifier(max_depth=4, min_samples_leaf=9, min_samples_split=5)"
      ]
     },
     "execution_count": 48,
     "metadata": {},
     "output_type": "execute_result"
    }
   ],
   "source": [
    "dt_model1=DecisionTreeClassifier(max_depth=4, min_samples_leaf=9, min_samples_split=5)\n",
    "dt_model1.fit(x_train,y_train)"
   ]
  },
  {
   "cell_type": "code",
   "execution_count": 49,
   "id": "fc9c6407",
   "metadata": {},
   "outputs": [
    {
     "name": "stdout",
     "output_type": "stream",
     "text": [
      "Accuracy :: 0.9890019246631839\n",
      "confusion_matrix >>\n",
      " [[1612   28]\n",
      " [  12 1985]]\n",
      "classification_report >>\n",
      "               precision    recall  f1-score   support\n",
      "\n",
      "           0       0.99      0.98      0.99      1640\n",
      "           1       0.99      0.99      0.99      1997\n",
      "\n",
      "    accuracy                           0.99      3637\n",
      "   macro avg       0.99      0.99      0.99      3637\n",
      "weighted avg       0.99      0.99      0.99      3637\n",
      "\n"
     ]
    }
   ],
   "source": [
    "#Testing evalution\n",
    "y_pred_dt=dt_model1.predict(x_test)\n",
    "accu_score=accuracy_score(y_test,y_pred_dt)\n",
    "print(\"Accuracy ::\",accu_score)\n",
    "conf_matrix=confusion_matrix(y_test,y_pred_dt)\n",
    "print(\"confusion_matrix >>\\n\",conf_matrix)\n",
    "class_report=classification_report(y_test,y_pred_dt)\n",
    "print(\"classification_report >>\\n\",class_report)"
   ]
  },
  {
   "cell_type": "code",
   "execution_count": 50,
   "id": "dfbf8856",
   "metadata": {},
   "outputs": [
    {
     "name": "stdout",
     "output_type": "stream",
     "text": [
      "Accuracy :: 0.98975804234259\n",
      "confusion_matrix >>\n",
      " [[6464   96]\n",
      " [  53 7935]]\n",
      "classification_report >>\n",
      "               precision    recall  f1-score   support\n",
      "\n",
      "           0       0.99      0.99      0.99      6560\n",
      "           1       0.99      0.99      0.99      7988\n",
      "\n",
      "    accuracy                           0.99     14548\n",
      "   macro avg       0.99      0.99      0.99     14548\n",
      "weighted avg       0.99      0.99      0.99     14548\n",
      "\n"
     ]
    }
   ],
   "source": [
    "#traiiing evalution\n",
    "y_pred_train=dt_model1.predict(x_train)\n",
    "accu_score=accuracy_score(y_train,y_pred_train)\n",
    "print(\"Accuracy ::\",accu_score)\n",
    "conf_matrix=confusion_matrix(y_train,y_pred_train)\n",
    "print(\"confusion_matrix >>\\n\",conf_matrix)\n",
    "class_report=classification_report(y_train,y_pred_train)\n",
    "print(\"classification_report >>\\n\",class_report)"
   ]
  },
  {
   "cell_type": "code",
   "execution_count": 51,
   "id": "6c32a48e",
   "metadata": {},
   "outputs": [
    {
     "ename": "NameError",
     "evalue": "name 'l' is not defined",
     "output_type": "error",
     "traceback": [
      "\u001b[1;31m---------------------------------------------------------------------------\u001b[0m",
      "\u001b[1;31mNameError\u001b[0m                                 Traceback (most recent call last)",
      "\u001b[1;32m~\\AppData\\Local\\Temp/ipykernel_10504/3258759789.py\u001b[0m in \u001b[0;36m<module>\u001b[1;34m\u001b[0m\n\u001b[1;32m----> 1\u001b[1;33m \u001b[0ml\u001b[0m\u001b[1;33m-\u001b[0m\u001b[0mLogisticRegression\u001b[0m\u001b[1;33m(\u001b[0m\u001b[1;33m)\u001b[0m\u001b[1;33m\u001b[0m\u001b[1;33m\u001b[0m\u001b[0m\n\u001b[0m",
      "\u001b[1;31mNameError\u001b[0m: name 'l' is not defined"
     ]
    }
   ],
   "source": [
    "l-LogisticRegression()"
   ]
  },
  {
   "cell_type": "code",
   "execution_count": 53,
   "id": "52d2cc42",
   "metadata": {},
   "outputs": [],
   "source": [
    "import pickle "
   ]
  },
  {
   "cell_type": "code",
   "execution_count": 54,
   "id": "17b72d3c",
   "metadata": {},
   "outputs": [],
   "source": [
    "f=open(\"Rice_model.pkl\",\"wb\")\n",
    "pickle.dump(dt_model1,f)\n",
    "f.close()"
   ]
  },
  {
   "cell_type": "code",
   "execution_count": 58,
   "id": "b80257eb",
   "metadata": {},
   "outputs": [
    {
     "data": {
      "text/plain": [
       "0.001"
      ]
     },
     "execution_count": 58,
     "metadata": {},
     "output_type": "execute_result"
    }
   ],
   "source": [
    "100/100000"
   ]
  },
  {
   "cell_type": "code",
   "execution_count": 56,
   "id": "ff8dabe6",
   "metadata": {},
   "outputs": [],
   "source": [
    "import numpy as np"
   ]
  },
  {
   "cell_type": "code",
   "execution_count": 59,
   "id": "5222f14d",
   "metadata": {},
   "outputs": [
    {
     "data": {
      "text/plain": [
       "6.907755278982137"
      ]
     },
     "execution_count": 59,
     "metadata": {},
     "output_type": "execute_result"
    }
   ],
   "source": [
    "np.log(1/0.001)"
   ]
  },
  {
   "cell_type": "code",
   "execution_count": null,
   "id": "9cc39d71",
   "metadata": {},
   "outputs": [],
   "source": []
  }
 ],
 "metadata": {
  "kernelspec": {
   "display_name": "Python 3 (ipykernel)",
   "language": "python",
   "name": "python3"
  },
  "language_info": {
   "codemirror_mode": {
    "name": "ipython",
    "version": 3
   },
   "file_extension": ".py",
   "mimetype": "text/x-python",
   "name": "python",
   "nbconvert_exporter": "python",
   "pygments_lexer": "ipython3",
   "version": "3.10.1"
  }
 },
 "nbformat": 4,
 "nbformat_minor": 5
}
